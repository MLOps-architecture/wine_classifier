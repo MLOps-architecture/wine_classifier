{
 "cells": [
  {
   "cell_type": "markdown",
   "metadata": {},
   "source": [
    "# MLflow Training Tutorial\n",
    "\n",
    "This `train.pynb` Jupyter notebook predicts the quality of wine using [sklearn.linear_model.ElasticNet](http://scikit-learn.org/stable/modules/generated/sklearn.linear_model.ElasticNet.html).  \n",
    "\n",
    "> This is the Jupyter notebook version of the `train.py` example\n",
    "\n",
    "Attribution\n",
    "* The data set used in this example is from http://archive.ics.uci.edu/ml/datasets/Wine+Quality\n",
    "* P. Cortez, A. Cerdeira, F. Almeida, T. Matos and J. Reis.\n",
    "* Modeling wine preferences by data mining from physicochemical properties. In Decision Support Systems, Elsevier, 47(4):547-553, 2009.\n"
   ]
  },
  {
   "cell_type": "code",
   "execution_count": 1,
   "metadata": {},
   "outputs": [
    {
     "name": "stdout",
     "output_type": "stream",
     "text": [
      "Requirement already up-to-date: mlflow in /Users/admin/miniconda3/lib/python3.7/site-packages (1.13.1)\n",
      "Requirement already satisfied, skipping upgrade: pandas in /Users/admin/miniconda3/lib/python3.7/site-packages (from mlflow) (0.25.3)\n",
      "Requirement already satisfied, skipping upgrade: numpy in /Users/admin/miniconda3/lib/python3.7/site-packages (from mlflow) (1.17.3)\n",
      "Requirement already satisfied, skipping upgrade: querystring-parser in /Users/admin/miniconda3/lib/python3.7/site-packages (from mlflow) (1.2.4)\n",
      "Requirement already satisfied, skipping upgrade: click>=7.0 in /Users/admin/miniconda3/lib/python3.7/site-packages (from mlflow) (7.0)\n",
      "Requirement already satisfied, skipping upgrade: pyyaml in /Users/admin/miniconda3/lib/python3.7/site-packages (from mlflow) (5.3.1)\n",
      "Requirement already satisfied, skipping upgrade: prometheus-flask-exporter in /Users/admin/miniconda3/lib/python3.7/site-packages (from mlflow) (0.18.1)\n",
      "Requirement already satisfied, skipping upgrade: cloudpickle in /Users/admin/miniconda3/lib/python3.7/site-packages (from mlflow) (1.6.0)\n",
      "Requirement already satisfied, skipping upgrade: Flask in /Users/admin/miniconda3/lib/python3.7/site-packages (from mlflow) (1.1.2)\n",
      "Requirement already satisfied, skipping upgrade: databricks-cli>=0.8.7 in /Users/admin/miniconda3/lib/python3.7/site-packages (from mlflow) (0.14.1)\n",
      "Requirement already satisfied, skipping upgrade: six>=1.10.0 in /Users/admin/miniconda3/lib/python3.7/site-packages (from mlflow) (1.14.0)\n",
      "Requirement already satisfied, skipping upgrade: alembic<=1.4.1 in /Users/admin/miniconda3/lib/python3.7/site-packages (from mlflow) (1.4.1)\n",
      "Requirement already satisfied, skipping upgrade: protobuf>=3.6.0 in /Users/admin/miniconda3/lib/python3.7/site-packages (from mlflow) (3.14.0)\n",
      "Requirement already satisfied, skipping upgrade: gunicorn; platform_system != \"Windows\" in /Users/admin/miniconda3/lib/python3.7/site-packages (from mlflow) (20.0.4)\n",
      "Requirement already satisfied, skipping upgrade: azure-storage-blob>=12.0.0 in /Users/admin/miniconda3/lib/python3.7/site-packages (from mlflow) (12.7.1)\n",
      "Requirement already satisfied, skipping upgrade: sqlalchemy in /Users/admin/miniconda3/lib/python3.7/site-packages (from mlflow) (1.3.19)\n",
      "Requirement already satisfied, skipping upgrade: docker>=4.0.0 in /Users/admin/miniconda3/lib/python3.7/site-packages (from mlflow) (4.0.2)\n",
      "Requirement already satisfied, skipping upgrade: requests>=2.17.3 in /Users/admin/miniconda3/lib/python3.7/site-packages (from mlflow) (2.22.0)\n",
      "Requirement already satisfied, skipping upgrade: sqlparse>=0.3.1 in /Users/admin/miniconda3/lib/python3.7/site-packages (from mlflow) (0.4.1)\n",
      "Requirement already satisfied, skipping upgrade: python-dateutil in /Users/admin/miniconda3/lib/python3.7/site-packages (from mlflow) (2.8.0)\n",
      "Requirement already satisfied, skipping upgrade: gitpython>=2.1.0 in /Users/admin/miniconda3/lib/python3.7/site-packages (from mlflow) (3.1.12)\n",
      "Requirement already satisfied, skipping upgrade: entrypoints in /Users/admin/miniconda3/lib/python3.7/site-packages (from mlflow) (0.3)\n",
      "Requirement already satisfied, skipping upgrade: pytz>=2017.2 in /Users/admin/miniconda3/lib/python3.7/site-packages (from pandas->mlflow) (2019.3)\n",
      "Requirement already satisfied, skipping upgrade: prometheus-client in /Users/admin/miniconda3/lib/python3.7/site-packages (from prometheus-flask-exporter->mlflow) (0.7.1)\n",
      "Requirement already satisfied, skipping upgrade: Werkzeug>=0.15 in /Users/admin/miniconda3/lib/python3.7/site-packages (from Flask->mlflow) (1.0.1)\n",
      "Requirement already satisfied, skipping upgrade: Jinja2>=2.10.1 in /Users/admin/miniconda3/lib/python3.7/site-packages (from Flask->mlflow) (2.11.2)\n",
      "Requirement already satisfied, skipping upgrade: itsdangerous>=0.24 in /Users/admin/miniconda3/lib/python3.7/site-packages (from Flask->mlflow) (1.1.0)\n",
      "Requirement already satisfied, skipping upgrade: tabulate>=0.7.7 in /Users/admin/miniconda3/lib/python3.7/site-packages (from databricks-cli>=0.8.7->mlflow) (0.8.7)\n",
      "Requirement already satisfied, skipping upgrade: python-editor>=0.3 in /Users/admin/miniconda3/lib/python3.7/site-packages (from alembic<=1.4.1->mlflow) (1.0.4)\n",
      "Requirement already satisfied, skipping upgrade: Mako in /Users/admin/miniconda3/lib/python3.7/site-packages (from alembic<=1.4.1->mlflow) (1.1.3)\n",
      "Requirement already satisfied, skipping upgrade: setuptools>=3.0 in /Users/admin/miniconda3/lib/python3.7/site-packages (from gunicorn; platform_system != \"Windows\"->mlflow) (46.1.3.post20200330)\n",
      "Requirement already satisfied, skipping upgrade: cryptography>=2.1.4 in /Users/admin/miniconda3/lib/python3.7/site-packages (from azure-storage-blob>=12.0.0->mlflow) (2.8)\n",
      "Requirement already satisfied, skipping upgrade: azure-core<2.0.0,>=1.10.0 in /Users/admin/miniconda3/lib/python3.7/site-packages (from azure-storage-blob>=12.0.0->mlflow) (1.10.0)\n",
      "Requirement already satisfied, skipping upgrade: msrest>=0.6.18 in /Users/admin/miniconda3/lib/python3.7/site-packages (from azure-storage-blob>=12.0.0->mlflow) (0.6.21)\n",
      "Requirement already satisfied, skipping upgrade: websocket-client>=0.32.0 in /Users/admin/miniconda3/lib/python3.7/site-packages (from docker>=4.0.0->mlflow) (0.57.0)\n",
      "Requirement already satisfied, skipping upgrade: certifi>=2017.4.17 in /Users/admin/miniconda3/lib/python3.7/site-packages (from requests>=2.17.3->mlflow) (2020.4.5.1)\n",
      "Requirement already satisfied, skipping upgrade: idna<2.9,>=2.5 in /Users/admin/miniconda3/lib/python3.7/site-packages (from requests>=2.17.3->mlflow) (2.8)\n",
      "Requirement already satisfied, skipping upgrade: urllib3!=1.25.0,!=1.25.1,<1.26,>=1.21.1 in /Users/admin/miniconda3/lib/python3.7/site-packages (from requests>=2.17.3->mlflow) (1.24.3)\n",
      "Requirement already satisfied, skipping upgrade: chardet<3.1.0,>=3.0.2 in /Users/admin/miniconda3/lib/python3.7/site-packages (from requests>=2.17.3->mlflow) (3.0.4)\n",
      "Requirement already satisfied, skipping upgrade: gitdb<5,>=4.0.1 in /Users/admin/miniconda3/lib/python3.7/site-packages (from gitpython>=2.1.0->mlflow) (4.0.5)\n",
      "Requirement already satisfied, skipping upgrade: MarkupSafe>=0.23 in /Users/admin/miniconda3/lib/python3.7/site-packages (from Jinja2>=2.10.1->Flask->mlflow) (1.1.1)\n",
      "Requirement already satisfied, skipping upgrade: cffi!=1.11.3,>=1.8 in /Users/admin/miniconda3/lib/python3.7/site-packages (from cryptography>=2.1.4->azure-storage-blob>=12.0.0->mlflow) (1.14.0)\n",
      "Requirement already satisfied, skipping upgrade: isodate>=0.6.0 in /Users/admin/miniconda3/lib/python3.7/site-packages (from msrest>=0.6.18->azure-storage-blob>=12.0.0->mlflow) (0.6.0)\n",
      "Requirement already satisfied, skipping upgrade: requests-oauthlib>=0.5.0 in /Users/admin/miniconda3/lib/python3.7/site-packages (from msrest>=0.6.18->azure-storage-blob>=12.0.0->mlflow) (1.3.0)\n",
      "Requirement already satisfied, skipping upgrade: smmap<4,>=3.0.1 in /Users/admin/miniconda3/lib/python3.7/site-packages (from gitdb<5,>=4.0.1->gitpython>=2.1.0->mlflow) (3.0.4)\n",
      "Requirement already satisfied, skipping upgrade: pycparser in /Users/admin/miniconda3/lib/python3.7/site-packages (from cffi!=1.11.3,>=1.8->cryptography>=2.1.4->azure-storage-blob>=12.0.0->mlflow) (2.20)\n",
      "Requirement already satisfied, skipping upgrade: oauthlib>=3.0.0 in /Users/admin/miniconda3/lib/python3.7/site-packages (from requests-oauthlib>=0.5.0->msrest>=0.6.18->azure-storage-blob>=12.0.0->mlflow) (3.1.0)\n"
     ]
    }
   ],
   "source": [
    "!pip install -U mlflow"
   ]
  },
  {
   "cell_type": "code",
   "execution_count": 3,
   "metadata": {},
   "outputs": [],
   "source": [
    "import os\n",
    "import warnings\n",
    "import sys\n",
    "\n",
    "import pandas as pd\n",
    "import numpy as np\n",
    "from sklearn.metrics import mean_squared_error, mean_absolute_error, r2_score\n",
    "from sklearn.model_selection import train_test_split\n",
    "from sklearn.linear_model import ElasticNet\n",
    "\n",
    "import mlflow\n",
    "import mlflow.sklearn\n",
    "\n",
    "import logging\n",
    "logging.basicConfig(level=logging.WARN)\n",
    "logger = logging.getLogger(__name__)"
   ]
  },
  {
   "cell_type": "code",
   "execution_count": 4,
   "metadata": {},
   "outputs": [],
   "source": [
    "mlflow.set_tracking_uri(\"http://mlflow.datarevenue.com:5000\")"
   ]
  },
  {
   "cell_type": "code",
   "execution_count": 5,
   "metadata": {},
   "outputs": [
    {
     "data": {
      "text/plain": [
       "'1'"
      ]
     },
     "execution_count": 5,
     "metadata": {},
     "output_type": "execute_result"
    }
   ],
   "source": [
    "mlflow.create_experiment(\"mlops-demo\")"
   ]
  },
  {
   "cell_type": "code",
   "execution_count": null,
   "metadata": {},
   "outputs": [],
   "source": []
  },
  {
   "cell_type": "code",
   "execution_count": null,
   "metadata": {},
   "outputs": [],
   "source": []
  },
  {
   "cell_type": "code",
   "execution_count": 18,
   "metadata": {},
   "outputs": [],
   "source": [
    "# Wine Quality Sample\n",
    "def train(in_alpha, in_l1_ratio):\n",
    "\n",
    "    def eval_metrics(actual, pred):\n",
    "        rmse = np.sqrt(mean_squared_error(actual, pred))\n",
    "        mae = mean_absolute_error(actual, pred)\n",
    "        r2 = r2_score(actual, pred)\n",
    "        return rmse, mae, r2\n",
    "\n",
    "\n",
    "    warnings.filterwarnings(\"ignore\")\n",
    "    np.random.seed(40)\n",
    "\n",
    "    # Read the wine-quality csv file from the URL\n",
    "    csv_url =\\\n",
    "        'http://archive.ics.uci.edu/ml/machine-learning-databases/wine-quality/winequality-red.csv'\n",
    "    try:\n",
    "        data = pd.read_csv(csv_url, sep=';')\n",
    "    except Exception as e:\n",
    "        logger.exception(\n",
    "            \"Unable to download training & test CSV, check your internet connection. Error: %s\", e)\n",
    "\n",
    "    # Split the data into training and test sets. (0.75, 0.25) split.\n",
    "    train, test = train_test_split(data)\n",
    "\n",
    "    # The predicted column is \"quality\" which is a scalar from [3, 9]\n",
    "    train_x = train.drop([\"quality\"], axis=1)\n",
    "    test_x = test.drop([\"quality\"], axis=1)\n",
    "    train_y = train[[\"quality\"]]\n",
    "    test_y = test[[\"quality\"]]\n",
    "\n",
    "    # Set default values if no alpha is provided\n",
    "    if float(in_alpha) is None:\n",
    "        alpha = 0.5\n",
    "    else:\n",
    "        alpha = float(in_alpha)\n",
    "\n",
    "    # Set default values if no l1_ratio is provided\n",
    "    if float(in_l1_ratio) is None:\n",
    "        l1_ratio = 0.5\n",
    "    else:\n",
    "        l1_ratio = float(in_l1_ratio)\n",
    "\n",
    "    # Useful for multiple runs (only doing one run in this sample notebook)    \n",
    "    with mlflow.start_run(experiment_id=1):\n",
    "        # Execute ElasticNet\n",
    "        lr = ElasticNet(alpha=alpha, l1_ratio=l1_ratio, random_state=42)\n",
    "        lr.fit(train_x, train_y)\n",
    "\n",
    "        # Evaluate Metrics\n",
    "        predicted_qualities = lr.predict(test_x)\n",
    "        (rmse, mae, r2) = eval_metrics(test_y, predicted_qualities)\n",
    "\n",
    "        # Print out metrics\n",
    "        print(\"Elasticnet model (alpha=%f, l1_ratio=%f):\" % (alpha, l1_ratio))\n",
    "        print(\"  RMSE: %s\" % rmse)\n",
    "        print(\"  MAE: %s\" % mae)\n",
    "        print(\"  R2: %s\" % r2)\n",
    "\n",
    "        # Log parameter, metrics, and model to MLflow\n",
    "        mlflow.log_param(\"alpha\", alpha)\n",
    "        mlflow.log_param(\"l1_ratio\", l1_ratio)\n",
    "        mlflow.log_metric(\"rmse\", rmse)\n",
    "        mlflow.log_metric(\"r2\", r2)\n",
    "        mlflow.log_metric(\"mae\", mae)\n",
    "\n",
    "        mlflow.sklearn.log_model(lr, \"model\")"
   ]
  },
  {
   "cell_type": "code",
   "execution_count": 19,
   "metadata": {},
   "outputs": [
    {
     "name": "stdout",
     "output_type": "stream",
     "text": [
      "Elasticnet model (alpha=0.500000, l1_ratio=0.500000):\n",
      "  RMSE: 0.7931640229276851\n",
      "  MAE: 0.6271946374319586\n",
      "  R2: 0.10862644997792614\n"
     ]
    }
   ],
   "source": [
    "train(0.5, 0.5)"
   ]
  },
  {
   "cell_type": "code",
   "execution_count": 20,
   "metadata": {},
   "outputs": [
    {
     "name": "stdout",
     "output_type": "stream",
     "text": [
      "Elasticnet model (alpha=0.200000, l1_ratio=0.200000):\n",
      "  RMSE: 0.7336400911821402\n",
      "  MAE: 0.5643841279275428\n",
      "  R2: 0.23739466063584158\n"
     ]
    }
   ],
   "source": [
    "train(0.2, 0.2)"
   ]
  },
  {
   "cell_type": "code",
   "execution_count": 21,
   "metadata": {},
   "outputs": [
    {
     "name": "stdout",
     "output_type": "stream",
     "text": [
      "Elasticnet model (alpha=0.100000, l1_ratio=0.100000):\n",
      "  RMSE: 0.7128829045893679\n",
      "  MAE: 0.5462202174984664\n",
      "  R2: 0.2799376066653344\n"
     ]
    }
   ],
   "source": [
    "train(0.1, 0.1)"
   ]
  },
  {
   "cell_type": "code",
   "execution_count": null,
   "metadata": {},
   "outputs": [],
   "source": []
  },
  {
   "cell_type": "code",
   "execution_count": null,
   "metadata": {},
   "outputs": [],
   "source": []
  },
  {
   "cell_type": "code",
   "execution_count": 22,
   "metadata": {},
   "outputs": [
    {
     "name": "stdout",
     "output_type": "stream",
     "text": [
      "[20.689054018723663]"
     ]
    }
   ],
   "source": [
    "!curl -X POST -H \"Content-Type:application/json; format=pandas-split\" --data '{\"columns\":[\"alcohol\", \"chlorides\", \"citric acid\", \"density\", \"fixed acidity\", \"free sulfur dioxide\", \"pH\", \"residual sugar\", \"sulphates\", \"total sulfur dioxide\", \"volatile acidity\"],\"data\":[[12.5, 0.29, 48, 0.98, 6.2, 29, 3.33, 1.2, 0, 175, 0.66]]}' http://127.0.0.1:1234/invocations"
   ]
  },
  {
   "cell_type": "code",
   "execution_count": null,
   "metadata": {},
   "outputs": [],
   "source": []
  },
  {
   "cell_type": "code",
   "execution_count": null,
   "metadata": {},
   "outputs": [],
   "source": []
  },
  {
   "cell_type": "code",
   "execution_count": 23,
   "metadata": {},
   "outputs": [],
   "source": [
    "exp = mlflow.get_experiment_by_name(\"mlops-demo\")"
   ]
  },
  {
   "cell_type": "code",
   "execution_count": 24,
   "metadata": {},
   "outputs": [
    {
     "data": {
      "text/plain": [
       "'s3://mlops-model-artifact/1'"
      ]
     },
     "execution_count": 24,
     "metadata": {},
     "output_type": "execute_result"
    }
   ],
   "source": [
    "exp.artifact_location"
   ]
  },
  {
   "cell_type": "code",
   "execution_count": null,
   "metadata": {},
   "outputs": [],
   "source": []
  },
  {
   "cell_type": "code",
   "execution_count": 3,
   "metadata": {},
   "outputs": [
    {
     "name": "stdout",
     "output_type": "stream",
     "text": [
      "seldondeployment.machinelearning.seldon.io/wines-classifier unchanged\n"
     ]
    }
   ],
   "source": [
    "!kubectl apply -f seldon-deployment.yaml -n stage"
   ]
  },
  {
   "cell_type": "code",
   "execution_count": 66,
   "metadata": {},
   "outputs": [
    {
     "name": "stdout",
     "output_type": "stream",
     "text": [
      "Waiting for deployment \"wines-classifier-model-a-0-wines-classifier\" rollout to finish: 1 old replicas are pending termination...\n",
      "Waiting for deployment \"wines-classifier-model-a-0-wines-classifier\" rollout to finish: 1 old replicas are pending termination...\n",
      "deployment \"wines-classifier-model-a-0-wines-classifier\" successfully rolled out\n"
     ]
    }
   ],
   "source": [
    "!kubectl rollout status deploy/$(kubectl get deploy -l seldon-deployment-id=wines-classifier -o jsonpath='{.items[0].metadata.name}')"
   ]
  },
  {
   "cell_type": "code",
   "execution_count": 2,
   "metadata": {},
   "outputs": [
    {
     "name": "stdout",
     "output_type": "stream",
     "text": [
      "seldondeployment.machinelearning.seldon.io \"wines-classifier\" deleted\n"
     ]
    }
   ],
   "source": [
    "!kubectl delete -f seldon-deployment.yaml"
   ]
  },
  {
   "cell_type": "code",
   "execution_count": 30,
   "metadata": {},
   "outputs": [],
   "source": []
  },
  {
   "cell_type": "code",
   "execution_count": 30,
   "metadata": {},
   "outputs": [
    {
     "name": "stdout",
     "output_type": "stream",
     "text": [
      "curl: (52) Empty reply from server\n"
     ]
    }
   ],
   "source": [
    "!curl -X POST -H \"Content-Type:application/json; format=pandas-split\" --data  http://127.0.0.1:9000/predictions"
   ]
  },
  {
   "cell_type": "code",
   "execution_count": 67,
   "metadata": {},
   "outputs": [
    {
     "name": "stdout",
     "output_type": "stream",
     "text": [
      "{\"data\":{\"names\":[],\"ndarray\":[3.0861741827087834]},\"meta\":{\"requestPath\":{\"wines-classifier\":\"seldonio/mlflowserver:1.6.0\"}}}\n"
     ]
    }
   ],
   "source": [
    "!curl \\\n",
    "    -X POST \\\n",
    "    -H 'Content-Type: application/json' \\\n",
    "    -d '{\\\n",
    "        \"data\": { \\\n",
    "            \"names\": [\"fixed acidity\",\"volatile acidity\",\"citric acid\",\"residual sugar\",\"chlorides\",\"free sulfur dioxide\",\"total sulfur dioxide\",\"density\",\"pH\",\"sulphates\",\"alcohol\"], \\\n",
    "            \"ndarray\": [[7,0.27,0.36,20.7,0.045,45,570,1.001,3,0.45,8.8]] \\\n",
    "        } \\\n",
    "    }' \\\n",
    "    http://a2a2d5f20a12342368355def4eb18716-1626501488.eu-west-1.elb.amazonaws.com:80/seldon/stage/wines-classifier/api/v1.0/predictions"
   ]
  },
  {
   "cell_type": "code",
   "execution_count": null,
   "metadata": {},
   "outputs": [],
   "source": []
  }
 ],
 "metadata": {
  "kernelspec": {
   "display_name": "Python 3",
   "language": "python",
   "name": "python3"
  },
  "language_info": {
   "codemirror_mode": {
    "name": "ipython",
    "version": 3
   },
   "file_extension": ".py",
   "mimetype": "text/x-python",
   "name": "python",
   "nbconvert_exporter": "python",
   "pygments_lexer": "ipython3",
   "version": "3.7.6"
  }
 },
 "nbformat": 4,
 "nbformat_minor": 4
}
