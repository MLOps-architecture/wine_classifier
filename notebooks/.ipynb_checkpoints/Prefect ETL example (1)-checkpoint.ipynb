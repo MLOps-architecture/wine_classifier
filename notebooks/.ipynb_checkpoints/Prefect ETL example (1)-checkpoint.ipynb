{
 "cells": [
  {
   "cell_type": "code",
   "execution_count": 1,
   "metadata": {},
   "outputs": [],
   "source": [
    "from datetime import timedelta, datetime\n",
    "import aircraftlib as aclib\n",
    "from prefect import task, Flow, Parameter\n",
    "from prefect.schedules import IntervalSchedule\n",
    "from prefect.storage import S3\n",
    "import prefect\n",
    "from prefect.run_configs import KubernetesRun"
   ]
  },
  {
   "cell_type": "code",
   "execution_count": 11,
   "metadata": {},
   "outputs": [],
   "source": [
    "#!pip install boto3 botocore"
   ]
  },
  {
   "cell_type": "code",
   "execution_count": null,
   "metadata": {},
   "outputs": [],
   "source": []
  },
  {
   "cell_type": "raw",
   "metadata": {},
   "source": [
    "prefect.__version__"
   ]
  },
  {
   "cell_type": "code",
   "execution_count": 3,
   "metadata": {},
   "outputs": [],
   "source": [
    "@task(max_retries=3, retry_delay=timedelta(seconds=1))\n",
    "def extract_reference_data():\n",
    "    logger = prefect.context.get(\"logger\")\n",
    "    logger.info(\"fetching reference data...\")\n",
    "    return a.fetch_reference_data()"
   ]
  },
  {
   "cell_type": "code",
   "execution_count": 4,
   "metadata": {},
   "outputs": [],
   "source": [
    "\n",
    "@task(max_retries=3, retry_delay=timedelta(seconds=1))\n",
    "def extract_live_data(airport, radius, ref_data):\n",
    "    logger = prefect.context.get(\"logger\")\n",
    "    \n",
    "    area = None\n",
    "    if airport:\n",
    "        airport_data = ref_data.airports[airport]\n",
    "        airport_position = aclib.Position(\n",
    "            lat=float(airport_data[\"latitude\"]), long=float(airport_data[\"longitude\"])\n",
    "        )\n",
    "        area = aclib.bounding_box(airport_position, radius)\n",
    "\n",
    "    logger.info(\"fetching live aircraft data...\")\n",
    "    raw_aircraft_data = aclib.fetch_live_aircraft_data(area=area)\n",
    "\n",
    "    return raw_aircraft_data"
   ]
  },
  {
   "cell_type": "code",
   "execution_count": 5,
   "metadata": {},
   "outputs": [],
   "source": [
    "@task\n",
    "def transform(raw_aircraft_data, ref_data):\n",
    "    logger = prefect.context.get(\"logger\")\n",
    "    logger.info(\"cleaning & transform aircraft data...\")\n",
    "\n",
    "    live_aircraft_data = []\n",
    "    for raw_vector in raw_aircraft_data:\n",
    "        vector = aclib.clean_vector(raw_vector)\n",
    "        if vector:\n",
    "            aclib.add_airline_info(vector, ref_data.airlines)\n",
    "            live_aircraft_data.append(vector)\n",
    "\n",
    "    return live_aircraft_data"
   ]
  },
  {
   "cell_type": "code",
   "execution_count": 6,
   "metadata": {},
   "outputs": [],
   "source": [
    "@task\n",
    "def load_reference_data(ref_data):\n",
    "    logger = prefect.context.get(\"logger\")\n",
    "    logger.info(\"saving reference data...\")\n",
    "    db = aclib.Database()\n",
    "    db.update_reference_data(ref_data)\n",
    "\n",
    "\n",
    "@task\n",
    "def load_live_data(live_aircraft_data):\n",
    "    logger = prefect.context.get(\"logger\")\n",
    "    logger.info(\"saving live aircraft data...\")\n",
    "    db = aclib.Database()\n",
    "    db.add_live_aircraft_data(live_aircraft_data)"
   ]
  },
  {
   "cell_type": "code",
   "execution_count": null,
   "metadata": {},
   "outputs": [],
   "source": []
  },
  {
   "cell_type": "code",
   "execution_count": 7,
   "metadata": {},
   "outputs": [],
   "source": [
    "custom_confs = {\n",
    "    \"run_config\": KubernetesRun(\n",
    "        image=\"drtools/prefect:aircraft-etl-package\", \n",
    "        image_pull_secrets=[\"regcred\"], \n",
    "    ),   \n",
    "    \"storage\": S3(bucket=\"dr-prefect\"),\n",
    "} \n",
    "\n",
    "with Flow(\"Aircraft-ETL\", **custom_confs) as flow:\n",
    "    airport = Parameter(\"airport\", default = \"IAD\")\n",
    "    radius = Parameter(\"radius\", default = 200)\n",
    "    \n",
    "    reference_data = extract_reference_data()\n",
    "    live_data = extract_live_data(airport, radius, reference_data)\n",
    "\n",
    "    transformed_live_data = transform(live_data, reference_data)\n",
    "\n",
    "    load_reference_data(reference_data)\n",
    "    load_live_data(transformed_live_data)"
   ]
  },
  {
   "cell_type": "code",
   "execution_count": null,
   "metadata": {},
   "outputs": [],
   "source": []
  },
  {
   "cell_type": "code",
   "execution_count": 9,
   "metadata": {},
   "outputs": [],
   "source": [
    "client = prefect.Client(api_server=\"http://prefect-server-apollo.default.svc.cluster.local:4200\")"
   ]
  },
  {
   "cell_type": "code",
   "execution_count": 10,
   "metadata": {},
   "outputs": [
    {
     "data": {
      "text/plain": [
       "'9d8dbb4e-9c9e-485f-9c2a-54f47f3c4f50'"
      ]
     },
     "execution_count": 10,
     "metadata": {},
     "output_type": "execute_result"
    }
   ],
   "source": [
    "client.create_project(\"AIRCRAFT-ETL\")"
   ]
  },
  {
   "cell_type": "code",
   "execution_count": 11,
   "metadata": {},
   "outputs": [
    {
     "name": "stdout",
     "output_type": "stream",
     "text": [
      "Result check: OK\n",
      "[2020-12-22 19:10:34+0100] INFO - prefect.S3 | Uploading aircraft-etl/2020-12-22t18-10-34-141798-00-00 to dr-prefect\n"
     ]
    },
    {
     "name": "stderr",
     "output_type": "stream",
     "text": [
      "/opt/conda/lib/python3.7/site-packages/ipykernel_launcher.py:1: UserWarning: No result handler was specified on your Flow. Cloud features such as input caching and resuming task runs from failure may not work properly.\n",
      "  \"\"\"Entry point for launching an IPython kernel.\n",
      "/opt/conda/lib/python3.7/site-packages/prefect/storage/base.py:163: UserWarning: Task <Task: extract_live_data> has retry settings but some upstream dependencies do not have result types. See https://docs.prefect.io/core/concepts/results.html for more details.\n",
      "  _healthcheck.result_check(self._flows.values())  # type: ignore\n"
     ]
    },
    {
     "name": "stdout",
     "output_type": "stream",
     "text": [
      "Flow URL: http://localhost:8080/default/flow/10ae4a5f-5d17-4d2c-a189-cf91bdd7b034\n",
      " └── ID: c2a76fe4-8bce-4b7e-96b4-edf95c1d5d4d\n",
      " └── Project: AIRCRAFT-ETL\n",
      " └── Labels: []\n"
     ]
    },
    {
     "data": {
      "text/plain": [
       "'c2a76fe4-8bce-4b7e-96b4-edf95c1d5d4d'"
      ]
     },
     "execution_count": 11,
     "metadata": {},
     "output_type": "execute_result"
    }
   ],
   "source": [
    "flow_id = client.register(flow, project_name=\"AIRCRAFT-ETL\")\n",
    "flow_id"
   ]
  },
  {
   "cell_type": "code",
   "execution_count": 12,
   "metadata": {},
   "outputs": [
    {
     "data": {
      "text/plain": [
       "'46b85f95-c175-4f98-99b7-b32c19a2e0a1'"
      ]
     },
     "execution_count": 12,
     "metadata": {},
     "output_type": "execute_result"
    }
   ],
   "source": [
    "client.create_flow_run(flow_id=flow_id, run_name=\"Run Aircraf ETL package \")"
   ]
  },
  {
   "cell_type": "code",
   "execution_count": null,
   "metadata": {},
   "outputs": [],
   "source": []
  },
  {
   "cell_type": "code",
   "execution_count": null,
   "metadata": {},
   "outputs": [],
   "source": []
  }
 ],
 "metadata": {
  "kernelspec": {
   "display_name": "Python 3",
   "language": "python",
   "name": "python3"
  },
  "language_info": {
   "codemirror_mode": {
    "name": "ipython",
    "version": 3
   },
   "file_extension": ".py",
   "mimetype": "text/x-python",
   "name": "python",
   "nbconvert_exporter": "python",
   "pygments_lexer": "ipython3",
   "version": "3.7.6"
  }
 },
 "nbformat": 4,
 "nbformat_minor": 4
}
