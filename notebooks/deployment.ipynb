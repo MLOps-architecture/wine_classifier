{
 "cells": [
  {
   "cell_type": "code",
   "execution_count": 2,
   "metadata": {},
   "outputs": [],
   "source": [
    "import yaml\n",
    "from os import path\n"
   ]
  },
  {
   "cell_type": "code",
   "execution_count": 5,
   "metadata": {},
   "outputs": [],
   "source": [
    "with open(path.join(\"seldon-deployment.yaml\")) as f:\n",
    "    dep = yaml.safe_load(f)\n"
   ]
  },
  {
   "cell_type": "code",
   "execution_count": 12,
   "metadata": {},
   "outputs": [
    {
     "data": {
      "text/plain": [
       "'s3://mlops-model-artifact/1/d41dd65f245345b3b409ad8121735f34/artifacts/model'"
      ]
     },
     "execution_count": 12,
     "metadata": {},
     "output_type": "execute_result"
    }
   ],
   "source": [
    "dep[\"spec\"][\"predictors\"][0][\"graph\"][\"modelUri\"]"
   ]
  },
  {
   "cell_type": "code",
   "execution_count": 18,
   "metadata": {},
   "outputs": [
    {
     "name": "stdout",
     "output_type": "stream",
     "text": [
      "Obtaining file:///Users/admin/Datarevenue/mlops/wine_classifier\n",
      "Requirement already satisfied: mlflow in /Users/admin/miniconda3/lib/python3.7/site-packages (from wine-classifier==0.1) (1.13.1)\n",
      "Requirement already satisfied: prefect in /Users/admin/miniconda3/lib/python3.7/site-packages (from wine-classifier==0.1) (0.14.6)\n",
      "Requirement already satisfied: pandas in /Users/admin/miniconda3/lib/python3.7/site-packages (from wine-classifier==0.1) (0.25.3)\n",
      "Requirement already satisfied: numpy in /Users/admin/miniconda3/lib/python3.7/site-packages (from wine-classifier==0.1) (1.17.3)\n",
      "Requirement already satisfied: sklearn in /Users/admin/miniconda3/lib/python3.7/site-packages (from wine-classifier==0.1) (0.0)\n",
      "Requirement already satisfied: botocore in /Users/admin/miniconda3/lib/python3.7/site-packages (from wine-classifier==0.1) (1.13.50)\n",
      "Requirement already satisfied: boto3 in /Users/admin/miniconda3/lib/python3.7/site-packages (from wine-classifier==0.1) (1.10.20)\n",
      "Requirement already satisfied: setuptools in /Users/admin/miniconda3/lib/python3.7/site-packages (from wine-classifier==0.1) (46.1.3.post20200330)\n",
      "Requirement already satisfied: versioneer in /Users/admin/miniconda3/lib/python3.7/site-packages (from wine-classifier==0.1) (0.18)\n",
      "Requirement already satisfied: sqlparse>=0.3.1 in /Users/admin/miniconda3/lib/python3.7/site-packages (from mlflow->wine-classifier==0.1) (0.4.1)\n",
      "Requirement already satisfied: python-dateutil in /Users/admin/miniconda3/lib/python3.7/site-packages (from mlflow->wine-classifier==0.1) (2.8.0)\n",
      "Requirement already satisfied: cloudpickle in /Users/admin/miniconda3/lib/python3.7/site-packages (from mlflow->wine-classifier==0.1) (1.6.0)\n",
      "Requirement already satisfied: sqlalchemy in /Users/admin/miniconda3/lib/python3.7/site-packages (from mlflow->wine-classifier==0.1) (1.3.19)\n",
      "Requirement already satisfied: alembic<=1.4.1 in /Users/admin/miniconda3/lib/python3.7/site-packages (from mlflow->wine-classifier==0.1) (1.4.1)\n",
      "Requirement already satisfied: gitpython>=2.1.0 in /Users/admin/miniconda3/lib/python3.7/site-packages (from mlflow->wine-classifier==0.1) (3.1.12)\n",
      "Requirement already satisfied: click>=7.0 in /Users/admin/miniconda3/lib/python3.7/site-packages (from mlflow->wine-classifier==0.1) (7.0)\n",
      "Requirement already satisfied: protobuf>=3.6.0 in /Users/admin/miniconda3/lib/python3.7/site-packages (from mlflow->wine-classifier==0.1) (3.14.0)\n",
      "Requirement already satisfied: six>=1.10.0 in /Users/admin/miniconda3/lib/python3.7/site-packages (from mlflow->wine-classifier==0.1) (1.14.0)\n",
      "Requirement already satisfied: docker>=4.0.0 in /Users/admin/miniconda3/lib/python3.7/site-packages (from mlflow->wine-classifier==0.1) (4.0.2)\n",
      "Requirement already satisfied: prometheus-flask-exporter in /Users/admin/miniconda3/lib/python3.7/site-packages (from mlflow->wine-classifier==0.1) (0.18.1)\n",
      "Requirement already satisfied: requests>=2.17.3 in /Users/admin/miniconda3/lib/python3.7/site-packages (from mlflow->wine-classifier==0.1) (2.22.0)\n",
      "Requirement already satisfied: databricks-cli>=0.8.7 in /Users/admin/miniconda3/lib/python3.7/site-packages (from mlflow->wine-classifier==0.1) (0.14.1)\n",
      "Requirement already satisfied: entrypoints in /Users/admin/miniconda3/lib/python3.7/site-packages (from mlflow->wine-classifier==0.1) (0.3)\n",
      "Requirement already satisfied: gunicorn; platform_system != \"Windows\" in /Users/admin/miniconda3/lib/python3.7/site-packages (from mlflow->wine-classifier==0.1) (20.0.4)\n",
      "Requirement already satisfied: Flask in /Users/admin/miniconda3/lib/python3.7/site-packages (from mlflow->wine-classifier==0.1) (1.1.2)\n",
      "Requirement already satisfied: querystring-parser in /Users/admin/miniconda3/lib/python3.7/site-packages (from mlflow->wine-classifier==0.1) (1.2.4)\n",
      "Requirement already satisfied: azure-storage-blob>=12.0.0 in /Users/admin/miniconda3/lib/python3.7/site-packages (from mlflow->wine-classifier==0.1) (12.7.1)\n",
      "Requirement already satisfied: pyyaml in /Users/admin/miniconda3/lib/python3.7/site-packages (from mlflow->wine-classifier==0.1) (5.3.1)\n",
      "Requirement already satisfied: dask>=2.17.0 in /Users/admin/miniconda3/lib/python3.7/site-packages (from prefect->wine-classifier==0.1) (2021.2.0)\n",
      "Requirement already satisfied: marshmallow>=3.0.0b19 in /Users/admin/miniconda3/lib/python3.7/site-packages (from prefect->wine-classifier==0.1) (3.9.1)\n",
      "Requirement already satisfied: msgpack>=0.6.0 in /Users/admin/miniconda3/lib/python3.7/site-packages (from prefect->wine-classifier==0.1) (0.6.2)\n",
      "Requirement already satisfied: pytz>=2018.7 in /Users/admin/miniconda3/lib/python3.7/site-packages (from prefect->wine-classifier==0.1) (2019.3)\n",
      "Requirement already satisfied: marshmallow-oneofschema>=2.0.0b2 in /Users/admin/miniconda3/lib/python3.7/site-packages (from prefect->wine-classifier==0.1) (2.1.0)\n",
      "Requirement already satisfied: mypy-extensions>=0.4.0 in /Users/admin/miniconda3/lib/python3.7/site-packages (from prefect->wine-classifier==0.1) (0.4.3)\n",
      "Requirement already satisfied: tabulate>=0.8.0 in /Users/admin/miniconda3/lib/python3.7/site-packages (from prefect->wine-classifier==0.1) (0.8.7)\n",
      "Requirement already satisfied: importlib-resources>=3.0.0; python_version < \"3.9\" in /Users/admin/miniconda3/lib/python3.7/site-packages (from prefect->wine-classifier==0.1) (3.3.0)\n",
      "Requirement already satisfied: python-slugify>=1.2.6 in /Users/admin/miniconda3/lib/python3.7/site-packages (from prefect->wine-classifier==0.1) (4.0.0)\n",
      "Requirement already satisfied: croniter<1.0,>=0.3.24 in /Users/admin/miniconda3/lib/python3.7/site-packages (from prefect->wine-classifier==0.1) (0.3.36)\n",
      "Requirement already satisfied: python-box>=5.1.0 in /Users/admin/miniconda3/lib/python3.7/site-packages (from prefect->wine-classifier==0.1) (5.2.0)\n",
      "Requirement already satisfied: distributed>=2.17.0 in /Users/admin/miniconda3/lib/python3.7/site-packages (from prefect->wine-classifier==0.1) (2020.12.0)\n",
      "Requirement already satisfied: pendulum>=2.0.4 in /Users/admin/miniconda3/lib/python3.7/site-packages (from prefect->wine-classifier==0.1) (2.1.2)\n",
      "Requirement already satisfied: toml>=0.9.4 in /Users/admin/miniconda3/lib/python3.7/site-packages (from prefect->wine-classifier==0.1) (0.10.0)\n",
      "Requirement already satisfied: urllib3>=1.24.3 in /Users/admin/miniconda3/lib/python3.7/site-packages (from prefect->wine-classifier==0.1) (1.24.3)\n",
      "Requirement already satisfied: scikit-learn in /Users/admin/miniconda3/lib/python3.7/site-packages (from sklearn->wine-classifier==0.1) (0.21.3)\n",
      "Requirement already satisfied: jmespath<1.0.0,>=0.7.1 in /Users/admin/miniconda3/lib/python3.7/site-packages (from botocore->wine-classifier==0.1) (0.9.5)\n",
      "Requirement already satisfied: docutils<0.16,>=0.10 in /Users/admin/miniconda3/lib/python3.7/site-packages (from botocore->wine-classifier==0.1) (0.15.2)\n",
      "Requirement already satisfied: s3transfer<0.3.0,>=0.2.0 in /Users/admin/miniconda3/lib/python3.7/site-packages (from boto3->wine-classifier==0.1) (0.2.1)\n",
      "Requirement already satisfied: Mako in /Users/admin/miniconda3/lib/python3.7/site-packages (from alembic<=1.4.1->mlflow->wine-classifier==0.1) (1.1.3)\n",
      "Requirement already satisfied: python-editor>=0.3 in /Users/admin/miniconda3/lib/python3.7/site-packages (from alembic<=1.4.1->mlflow->wine-classifier==0.1) (1.0.4)\n",
      "Requirement already satisfied: gitdb<5,>=4.0.1 in /Users/admin/miniconda3/lib/python3.7/site-packages (from gitpython>=2.1.0->mlflow->wine-classifier==0.1) (4.0.5)\n",
      "Requirement already satisfied: websocket-client>=0.32.0 in /Users/admin/miniconda3/lib/python3.7/site-packages (from docker>=4.0.0->mlflow->wine-classifier==0.1) (0.57.0)\n",
      "Requirement already satisfied: prometheus-client in /Users/admin/miniconda3/lib/python3.7/site-packages (from prometheus-flask-exporter->mlflow->wine-classifier==0.1) (0.7.1)\n",
      "Requirement already satisfied: idna<2.9,>=2.5 in /Users/admin/miniconda3/lib/python3.7/site-packages (from requests>=2.17.3->mlflow->wine-classifier==0.1) (2.8)\n",
      "Requirement already satisfied: certifi>=2017.4.17 in /Users/admin/miniconda3/lib/python3.7/site-packages (from requests>=2.17.3->mlflow->wine-classifier==0.1) (2020.4.5.1)\n",
      "Requirement already satisfied: chardet<3.1.0,>=3.0.2 in /Users/admin/miniconda3/lib/python3.7/site-packages (from requests>=2.17.3->mlflow->wine-classifier==0.1) (3.0.4)\n",
      "Requirement already satisfied: Jinja2>=2.10.1 in /Users/admin/miniconda3/lib/python3.7/site-packages (from Flask->mlflow->wine-classifier==0.1) (2.11.2)\n",
      "Requirement already satisfied: itsdangerous>=0.24 in /Users/admin/miniconda3/lib/python3.7/site-packages (from Flask->mlflow->wine-classifier==0.1) (1.1.0)\n",
      "Requirement already satisfied: Werkzeug>=0.15 in /Users/admin/miniconda3/lib/python3.7/site-packages (from Flask->mlflow->wine-classifier==0.1) (1.0.1)\n",
      "Requirement already satisfied: cryptography>=2.1.4 in /Users/admin/miniconda3/lib/python3.7/site-packages (from azure-storage-blob>=12.0.0->mlflow->wine-classifier==0.1) (2.8)\n",
      "Requirement already satisfied: msrest>=0.6.18 in /Users/admin/miniconda3/lib/python3.7/site-packages (from azure-storage-blob>=12.0.0->mlflow->wine-classifier==0.1) (0.6.21)\n",
      "Requirement already satisfied: azure-core<2.0.0,>=1.10.0 in /Users/admin/miniconda3/lib/python3.7/site-packages (from azure-storage-blob>=12.0.0->mlflow->wine-classifier==0.1) (1.10.0)\n",
      "Requirement already satisfied: zipp>=0.4; python_version < \"3.8\" in /Users/admin/miniconda3/lib/python3.7/site-packages (from importlib-resources>=3.0.0; python_version < \"3.9\"->prefect->wine-classifier==0.1) (3.1.0)\n",
      "Requirement already satisfied: text-unidecode>=1.3 in /Users/admin/miniconda3/lib/python3.7/site-packages (from python-slugify>=1.2.6->prefect->wine-classifier==0.1) (1.3)\n",
      "Requirement already satisfied: natsort in /Users/admin/miniconda3/lib/python3.7/site-packages (from croniter<1.0,>=0.3.24->prefect->wine-classifier==0.1) (7.1.0)\n",
      "Requirement already satisfied: zict>=0.1.3 in /Users/admin/miniconda3/lib/python3.7/site-packages (from distributed>=2.17.0->prefect->wine-classifier==0.1) (2.0.0)\n",
      "Requirement already satisfied: psutil>=5.0 in /Users/admin/miniconda3/lib/python3.7/site-packages (from distributed>=2.17.0->prefect->wine-classifier==0.1) (5.7.0)\n",
      "Requirement already satisfied: tornado>=5; python_version < \"3.8\" in /Users/admin/miniconda3/lib/python3.7/site-packages (from distributed>=2.17.0->prefect->wine-classifier==0.1) (5.1.1)\n",
      "Requirement already satisfied: toolz>=0.8.2 in /Users/admin/miniconda3/lib/python3.7/site-packages (from distributed>=2.17.0->prefect->wine-classifier==0.1) (0.10.0)\n",
      "Requirement already satisfied: tblib>=1.6.0 in /Users/admin/miniconda3/lib/python3.7/site-packages (from distributed>=2.17.0->prefect->wine-classifier==0.1) (1.6.0)\n",
      "Requirement already satisfied: sortedcontainers!=2.0.0,!=2.0.1 in /Users/admin/miniconda3/lib/python3.7/site-packages (from distributed>=2.17.0->prefect->wine-classifier==0.1) (2.1.0)\n",
      "Requirement already satisfied: pytzdata>=2020.1 in /Users/admin/miniconda3/lib/python3.7/site-packages (from pendulum>=2.0.4->prefect->wine-classifier==0.1) (2020.1)\n",
      "Requirement already satisfied: joblib>=0.11 in /Users/admin/miniconda3/lib/python3.7/site-packages (from scikit-learn->sklearn->wine-classifier==0.1) (0.14.1)\n",
      "Requirement already satisfied: scipy>=0.17.0 in /Users/admin/miniconda3/lib/python3.7/site-packages (from scikit-learn->sklearn->wine-classifier==0.1) (1.4.1)\n",
      "Requirement already satisfied: MarkupSafe>=0.9.2 in /Users/admin/miniconda3/lib/python3.7/site-packages (from Mako->alembic<=1.4.1->mlflow->wine-classifier==0.1) (1.1.1)\n",
      "Requirement already satisfied: smmap<4,>=3.0.1 in /Users/admin/miniconda3/lib/python3.7/site-packages (from gitdb<5,>=4.0.1->gitpython>=2.1.0->mlflow->wine-classifier==0.1) (3.0.4)\n",
      "Requirement already satisfied: cffi!=1.11.3,>=1.8 in /Users/admin/miniconda3/lib/python3.7/site-packages (from cryptography>=2.1.4->azure-storage-blob>=12.0.0->mlflow->wine-classifier==0.1) (1.14.0)\n",
      "Requirement already satisfied: requests-oauthlib>=0.5.0 in /Users/admin/miniconda3/lib/python3.7/site-packages (from msrest>=0.6.18->azure-storage-blob>=12.0.0->mlflow->wine-classifier==0.1) (1.3.0)\n",
      "Requirement already satisfied: isodate>=0.6.0 in /Users/admin/miniconda3/lib/python3.7/site-packages (from msrest>=0.6.18->azure-storage-blob>=12.0.0->mlflow->wine-classifier==0.1) (0.6.0)\n",
      "Requirement already satisfied: heapdict in /Users/admin/miniconda3/lib/python3.7/site-packages (from zict>=0.1.3->distributed>=2.17.0->prefect->wine-classifier==0.1) (1.0.1)\n",
      "Requirement already satisfied: pycparser in /Users/admin/miniconda3/lib/python3.7/site-packages (from cffi!=1.11.3,>=1.8->cryptography>=2.1.4->azure-storage-blob>=12.0.0->mlflow->wine-classifier==0.1) (2.20)\n",
      "Requirement already satisfied: oauthlib>=3.0.0 in /Users/admin/miniconda3/lib/python3.7/site-packages (from requests-oauthlib>=0.5.0->msrest>=0.6.18->azure-storage-blob>=12.0.0->mlflow->wine-classifier==0.1) (3.1.0)\n",
      "Installing collected packages: wine-classifier\n",
      "  Attempting uninstall: wine-classifier\n",
      "    Found existing installation: wine-classifier 0.1\n",
      "    Uninstalling wine-classifier-0.1:\n",
      "      Successfully uninstalled wine-classifier-0.1\n",
      "  Running setup.py develop for wine-classifier\n",
      "Successfully installed wine-classifier\n"
     ]
    }
   ],
   "source": [
    "!pip install -e ../"
   ]
  },
  {
   "cell_type": "code",
   "execution_count": 17,
   "metadata": {},
   "outputs": [],
   "source": [
    "from wine_classifier.configuration import config"
   ]
  },
  {
   "cell_type": "code",
   "execution_count": 12,
   "metadata": {},
   "outputs": [
    {
     "data": {
      "text/plain": [
       "{'modelUri': 's3://mlops-model-artifact/1/d41dd65f245345b3b409ad8121735f34/artifacts/model',\n",
       " 'enviroment': 'stage'}"
      ]
     },
     "execution_count": 12,
     "metadata": {},
     "output_type": "execute_result"
    }
   ],
   "source": [
    "config[\"model\"]"
   ]
  },
  {
   "cell_type": "code",
   "execution_count": null,
   "metadata": {},
   "outputs": [],
   "source": []
  }
 ],
 "metadata": {
  "kernelspec": {
   "display_name": "Python 3",
   "language": "python",
   "name": "python3"
  },
  "language_info": {
   "codemirror_mode": {
    "name": "ipython",
    "version": 3
   },
   "file_extension": ".py",
   "mimetype": "text/x-python",
   "name": "python",
   "nbconvert_exporter": "python",
   "pygments_lexer": "ipython3",
   "version": "3.7.6"
  }
 },
 "nbformat": 4,
 "nbformat_minor": 4
}
